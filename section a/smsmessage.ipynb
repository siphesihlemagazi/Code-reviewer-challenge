{
 "cells": [
  {
   "cell_type": "markdown",
   "metadata": {},
   "source": [
    "# Option 1: Python\n",
    "## Student Question\n",
    "Hi there,\n",
    "I'm having a bit of an issue with figuring out how to exactly implement the class\n",
    "methods so that I may call them outside of the class when trying to create a new\n",
    "SMS object.\n",
    "Thanks,\n",
    "Student"
   ]
  },
  {
   "cell_type": "code",
   "execution_count": null,
   "metadata": {},
   "outputs": [],
   "source": [
    "class SMSMessage():\n",
    "    hasBeenRead = False\n",
    "    messageText = text\n",
    "    fromNumber = number\n",
    "\n",
    "    def __init__(self,hasBeenRead,messageText,fromNumber):\n",
    "        self.hasBeenRead = False \n",
    "        self.messageText = text\n",
    "        self.fromNumber = number\n",
    "\n",
    "    def MarkASRead(self):\n",
    "        if userChoice == read:\n",
    "            self.hasBeenRead = True\n",
    "        \n",
    "    def add_sms(): # Creating a message is replicating the class, i.e creating an instance of the class.\n",
    "    def get_count(): # get the sum of instances of the class SMSMessage()\n",
    "    def get_message(): # get all instances of the SMSMessage() class\n",
    "    def get_unread_messages(): # get all the messages where the property hasBeenRead is set to True using the MarkASRead() method\n",
    "    def remove(): # delete the instance of SMSMessage() class from whatever collection you stored them\n",
    "        \n",
    "no_1 = SMSMessage(False, \"Hello\", \"0798653452\")\n",
    "no_2 = SMSMessage(False, \"WYD\", \"0845673864\")\n",
    "no_3 = SMSMessage(False, \"How are you?\", \"0631873298\")\n",
    "\n",
    "SMSStore = []\n",
    "userChoice = \"\"\n",
    "\n",
    "while userChoice != \"quit\":\n",
    "    userChoice = raw_input(\"What would you like to do - read/send/quit?\")\n",
    "    if userChoice == \"read\":\n",
    "        # Place your logic here\n",
    "        # simply call the appropriate method using dot notaion syntax i.e instance.method()\n",
    "        no_3.MarkASRead()\n",
    "    elif userChoice == \"send\": \n",
    "        # Place your logic here \n",
    "        # simply call the appropriate method using dot notaion syntax\n",
    "    elif userChoice == \"quit\":\n",
    "        print(\"Goodbye\")\n",
    "    else:\n",
    "        print(\"Oops - incorrect input\")"
   ]
  },
  {
   "cell_type": "markdown",
   "metadata": {},
   "source": [
    "## Full explanation\n",
    "\n",
    "- The class is the blue print for all massages.\n",
    "- Creating a message is replicating the class, i.e creating an instance of the class.\n",
    "- get_message() gets all instances of the SMSMessage() class\n",
    "- get_unread_messages() is getting all the messages where the property hasBeenRead is set to True using the MarkASRead() method\n",
    "- get_count() is getting the total instances of the class\n",
    "- MarkASRead() sets the hasBeenRead property to true\n",
    "- remove_msg() is deleting the instance of SMSMessage() class from whatever collection you stored them"
   ]
  },
  {
   "cell_type": "markdown",
   "metadata": {},
   "source": [
    "## How I would approach the problem"
   ]
  },
  {
   "cell_type": "code",
   "execution_count": 13,
   "metadata": {},
   "outputs": [],
   "source": [
    "class SMSMessage():\n",
    "    stored_message = []\n",
    "    def __init__(self, hasBeenRead, messageText, fromNumber):\n",
    "        self.hasBeenRead = False \n",
    "        self.messageText = messageText\n",
    "        self.fromNumber = fromNumber\n",
    "        SMSMessage.stored_message.append(self) # Append all messages, which are just instances, to my list\n",
    "    \n",
    "    # Get all messages\n",
    "    def get_message(self):\n",
    "        for message in SMSMessage.stored_message:\n",
    "            print(f\"Read: {message.hasBeenRead}, Message: {message.messageText}, From: {message.fromNumber}\")\n",
    "            \n",
    "    # Get all unread messages  \n",
    "    def get_unread_messages(self):\n",
    "        for message in SMSMessage.stored_message:\n",
    "            if message.hasBeenRead == False:\n",
    "                print(f\"Read: {message.hasBeenRead}, Message: {message.messageText}, From: {message.fromNumber}\")\n",
    "                \n",
    "    def get_count(self):\n",
    "        print(f\"Total messages: {len(SMSMessage.stored_message)}\")\n",
    "        \n",
    "    def MarkASRead(self):\n",
    "        mark_as_read = input(\"Mark this msg as read? (yes/no) \")\n",
    "        if mark_as_read.lower() == \"yes\":\n",
    "            self.hasBeenRead = True\n",
    "        return self.hasBeenRead\n",
    "    \n",
    "    def remove_msg(self):\n",
    "        for message in SMSMessage.stored_message:\n",
    "            SMSMessage.stored_message.remove(message)\n",
    "            break\n",
    "        return f\"Read: {message.hasBeenRead}, Message: {message.messageText}, From: {message.fromNumber}\" # Showing deleted msg\n",
    "\n",
    "            "
   ]
  },
  {
   "cell_type": "code",
   "execution_count": 14,
   "metadata": {},
   "outputs": [],
   "source": [
    "# Create message\n",
    "\n",
    "sms = SMSMessage(False, \"Hello\", \"0798653452\")\n",
    "sms2 = SMSMessage(False, \"How are you?\", \"0631873298\")\n",
    "sms3 = SMSMessage(False, \"WYD\", \"0845673864\")"
   ]
  },
  {
   "cell_type": "code",
   "execution_count": 19,
   "metadata": {},
   "outputs": [
    {
     "name": "stdout",
     "output_type": "stream",
     "text": [
      "Read: True, Message: Hello, From: 0798653452\n",
      "Read: False, Message: How are you?, From: 0631873298\n",
      "Read: False, Message: WYD, From: 0845673864\n"
     ]
    }
   ],
   "source": [
    "# Get all massages\n",
    "sms.get_message()"
   ]
  },
  {
   "cell_type": "code",
   "execution_count": null,
   "metadata": {},
   "outputs": [],
   "source": [
    "# Get only unread messages\n",
    "sms.get_unread_messages()"
   ]
  },
  {
   "cell_type": "code",
   "execution_count": null,
   "metadata": {},
   "outputs": [],
   "source": [
    "# Get total count of messages\n",
    "sms.get_count()"
   ]
  },
  {
   "cell_type": "code",
   "execution_count": 18,
   "metadata": {},
   "outputs": [
    {
     "name": "stdout",
     "output_type": "stream",
     "text": [
      "Mark this msg as read? (yes/no) no\n"
     ]
    },
    {
     "data": {
      "text/plain": [
       "True"
      ]
     },
     "execution_count": 18,
     "metadata": {},
     "output_type": "execute_result"
    }
   ],
   "source": [
    "# Mark a message as read\n",
    "sms.MarkASRead()"
   ]
  },
  {
   "cell_type": "code",
   "execution_count": null,
   "metadata": {},
   "outputs": [],
   "source": [
    "# Remove a massage\n",
    "sms.remove_msg()"
   ]
  },
  {
   "cell_type": "code",
   "execution_count": null,
   "metadata": {},
   "outputs": [],
   "source": []
  }
 ],
 "metadata": {
  "kernelspec": {
   "display_name": "Python 3",
   "language": "python",
   "name": "python3"
  },
  "language_info": {
   "codemirror_mode": {
    "name": "ipython",
    "version": 3
   },
   "file_extension": ".py",
   "mimetype": "text/x-python",
   "name": "python",
   "nbconvert_exporter": "python",
   "pygments_lexer": "ipython3",
   "version": "3.7.6"
  }
 },
 "nbformat": 4,
 "nbformat_minor": 4
}
